{
 "cells": [
  {
   "cell_type": "markdown",
   "id": "042b7069-6c9d-4f77-8f46-b8b8fdc92563",
   "metadata": {},
   "source": [
    "This script downloads a given wikipedia dump (if it doesn't exist locally yet), and transforms from its compressed xml data the content into a single simple txt file"
   ]
  },
  {
   "cell_type": "code",
   "execution_count": 1,
   "id": "6cb5034e-31a8-4986-925a-113a8cbc203b",
   "metadata": {},
   "outputs": [],
   "source": [
    "import os\n",
    "import requests\n",
    "import subprocess\n",
    "from gensim.corpora import WikiCorpus\n",
    "from IPython.utils import io"
   ]
  },
  {
   "cell_type": "markdown",
   "id": "74ae2590-dc6c-45c4-8a08-d4af870387bd",
   "metadata": {},
   "source": [
    "## config"
   ]
  },
  {
   "cell_type": "code",
   "execution_count": 2,
   "id": "0e50e2e7-6656-4246-8bde-4fac7719e3b9",
   "metadata": {},
   "outputs": [
    {
     "name": "stdout",
     "output_type": "stream",
     "text": [
      "wiki_dump_id: dewiki-latest-pages-articles.xml.bz2\n",
      "wiki_dump_path: /veld/input/dewiki-latest-pages-articles.xml.bz2\n"
     ]
    }
   ],
   "source": [
    "WIKI_DUMP_URL = \"https://dumps.wikimedia.org/dewiki/latest/dewiki-latest-pages-articles.xml.bz2\"\n",
    "OUTPUT_TEXT_PATH = \"/veld/input/dewiki.txt\"\n",
    "\n",
    "wiki_dump_id = WIKI_DUMP_URL.split(\"/\")[-1]\n",
    "wiki_dump_path = f\"/veld/input/{wiki_dump_id}\"\n",
    "\n",
    "print(f\"wiki_dump_id: {wiki_dump_id}\")\n",
    "print(f\"wiki_dump_path: {wiki_dump_path}\");"
   ]
  },
  {
   "cell_type": "markdown",
   "id": "b701cff0-9b8d-4acb-9174-08aa61bb437a",
   "metadata": {},
   "source": [
    "## download wikipedia dump if it doesn't exist locally\n",
    "\n",
    "can take a while, depending on the dump. The english dump has around 22GB, the german 6.5 GB"
   ]
  },
  {
   "cell_type": "code",
   "execution_count": 3,
   "id": "e1f48457-3053-4143-862f-d829d1d9d3f1",
   "metadata": {},
   "outputs": [
    {
     "name": "stdout",
     "output_type": "stream",
     "text": [
      "wiki dump does not exist yet locally. Downloading.\n",
      "Done with downloading. Size:\n",
      "6.5G\t/veld/input/dewiki-latest-pages-articles.xml.bz2\n"
     ]
    }
   ],
   "source": [
    "if not os.path.exists(wiki_dump_path):\n",
    "    print(\"wiki dump does not exist yet locally. Downloading.\")        \n",
    "    \n",
    "    # piping stdout to DEVNULL, so that this jupyter cell doesn't get cluttered\n",
    "    subprocess.call(\n",
    "        [\"wget\", WIKI_DUMP_URL, \"-O\", wiki_dump_path], \n",
    "        stdout=subprocess.DEVNULL, \n",
    "        stderr=subprocess.STDOUT\n",
    "    )\n",
    "    print(\"Done with downloading. Size:\")       \n",
    "    _ = subprocess.run([\"du\", \"-sh\", wiki_dump_path])\n",
    "else:\n",
    "    print(\"wiki dump does already exist locally. Not downloading.\")"
   ]
  },
  {
   "cell_type": "markdown",
   "id": "27dbbe4b-4c45-422a-adbb-b89e265d1ac1",
   "metadata": {},
   "source": [
    "## stream from wikipedia dump and append to txt file\n",
    "\n",
    "can also take a while"
   ]
  },
  {
   "cell_type": "code",
   "execution_count": 5,
   "id": "5140aab5-a82a-4c2b-bbf5-303ca0b83010",
   "metadata": {},
   "outputs": [],
   "source": [
    "wiki_corpus_streaming = WikiCorpus(wiki_dump_path, dictionary=False)\n",
    "\n",
    "# delete content of file\n",
    "with open(OUTPUT_TEXT_PATH, \"w\") as f:\n",
    "    f.write(\"\")\n",
    "\n",
    "# append to file iteratively to save RAM\n",
    "with open(OUTPUT_TEXT_PATH, \"a\") as f:\n",
    "    for text in wiki_corpus_streaming.get_texts():\n",
    "        t = \" \".join(text)    \n",
    "        f.write(t)"
   ]
  }
 ],
 "metadata": {
  "kernelspec": {
   "display_name": "Python 3 (ipykernel)",
   "language": "python",
   "name": "python3"
  },
  "language_info": {
   "codemirror_mode": {
    "name": "ipython",
    "version": 3
   },
   "file_extension": ".py",
   "mimetype": "text/x-python",
   "name": "python",
   "nbconvert_exporter": "python",
   "pygments_lexer": "ipython3",
   "version": "3.10.12"
  }
 },
 "nbformat": 4,
 "nbformat_minor": 5
}
