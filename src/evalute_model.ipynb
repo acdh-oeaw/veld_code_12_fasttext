{
 "cells": [
  {
   "cell_type": "code",
   "execution_count": 1,
   "id": "4fcbb9b0-68bb-4397-bf60-f5c0f6cfecb8",
   "metadata": {},
   "outputs": [],
   "source": [
    "import fasttext\n",
    "import numpy as np\n",
    "from eval_and_log import calculate_eval_score, ContainerModelLogicTemplate"
   ]
  },
  {
   "cell_type": "code",
   "execution_count": 2,
   "id": "c13d8c71-11c4-4f02-aedc-ebfb87afa444",
   "metadata": {},
   "outputs": [
    {
     "name": "stderr",
     "output_type": "stream",
     "text": [
      "Warning : `load_model` does not return WordVectorModel or SupervisedModel any more, but a `FastText` object which is very similar.\n"
     ]
    }
   ],
   "source": [
    "model = fasttext.load_model(\"/veld/output/m2/model.bin\")"
   ]
  },
  {
   "cell_type": "code",
   "execution_count": 3,
   "id": "c47ccd20-5b93-46fa-996d-cc332538ed67",
   "metadata": {},
   "outputs": [],
   "source": [
    "class ContainerModelLogic(ContainerModelLogicTemplate):\n",
    "\n",
    "    def __init__(self, model):\n",
    "        self.model = model\n",
    "    \n",
    "    def cos_sim_of_words(self, w1, w2):\n",
    "        v1 = self.model.get_word_vector(w1)\n",
    "        v2 = self.model.get_word_vector(w2)\n",
    "        dp = np.dot(v1, v2)\n",
    "        nv1 = np.linalg.norm(v1)\n",
    "        nv2 = np.linalg.norm(v2)\n",
    "        s = dp / (nv1 * nv2)\n",
    "        return s\n",
    "\n",
    "container_model_logic = ContainerModelLogic(model)"
   ]
  },
  {
   "cell_type": "code",
   "execution_count": 4,
   "id": "514e604b-0637-4b97-9ca7-cd56150486cd",
   "metadata": {},
   "outputs": [
    {
     "name": "stdout",
     "output_type": "stream",
     "text": [
      "\n",
      "calculating synonyms score\n",
      "cosine simliarity between 'Frau' and 'Dame': 0.029594676569104195\n",
      "cosine simliarity between 'Frau' and 'Baum': 0.19308361411094666\n",
      "score: -0.42259617522358894\n",
      "------------------------------------------------\n",
      "total average synonym score: -0.42\n",
      "\n",
      "calculating homonyms score\n",
      "cosine simliarity between 'Ball' and 'Fest': 0.11391724646091461\n",
      "cosine simliarity between 'Ball' and 'Buch': 0.2138061672449112\n",
      "score: -0.323981116215388\n",
      "cosine simliarity between 'Ball' and 'Kugel': 0.31555935740470886\n",
      "cosine simliarity between 'Ball' and 'Buch': 0.2138061672449112\n",
      "score: -0.05512496829032898\n",
      "average score: -0.1895530422528585\n",
      "------------------------------------------------\n",
      "total average homonym score: -0.19\n",
      "\n",
      "calculating antonyms score\n",
      "cosine simliarity between 'Frau' and 'Dame': 0.029594676569104195\n",
      "cosine simliarity between 'Frau' and 'Mann': 0.08035033196210861\n",
      "score: -0.34744065379103023\n",
      "------------------------------------------------\n",
      "total average antonym score: -0.35\n"
     ]
    }
   ],
   "source": [
    "calculate_eval_score(\"/veld/input/2/eval_data.yaml\", container_model_logic)"
   ]
  }
 ],
 "metadata": {
  "kernelspec": {
   "display_name": "Python 3 (ipykernel)",
   "language": "python",
   "name": "python3"
  },
  "language_info": {
   "codemirror_mode": {
    "name": "ipython",
    "version": 3
   },
   "file_extension": ".py",
   "mimetype": "text/x-python",
   "name": "python",
   "nbconvert_exporter": "python",
   "pygments_lexer": "ipython3",
   "version": "3.10.12"
  }
 },
 "nbformat": 4,
 "nbformat_minor": 5
}
