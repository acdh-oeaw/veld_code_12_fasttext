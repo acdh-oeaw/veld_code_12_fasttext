{
 "cells": [
  {
   "cell_type": "code",
   "execution_count": 1,
   "id": "8c65b13f-1747-473e-a77a-5b50b2ddc698",
   "metadata": {},
   "outputs": [],
   "source": [
    "import fasttext\n",
    "import os\n",
    "import subprocess\n",
    "import yaml\n",
    "from datetime import datetime"
   ]
  },
  {
   "cell_type": "markdown",
   "id": "c4e8f062-4c6a-411a-8e8f-c3213b023ab7",
   "metadata": {},
   "source": [
    "## config"
   ]
  },
  {
   "cell_type": "code",
   "execution_count": 2,
   "id": "3fed3abd-b5ab-4cb8-90be-bac6a11c85f8",
   "metadata": {},
   "outputs": [],
   "source": [
    "# training data\n",
    "TRAIN_DATA_PATH = \"/veld/input/dewiki.txt\"\n",
    "TRAIN_DATA_NAME = \"german wikipedia\"\n",
    "\n",
    "# hyperparameters\n",
    "EPOCHS = 5\n",
    "VECTOR_SIZE = 200\n",
    "\n",
    "# output\n",
    "MODEL_PATH = \"/veld/output/m2/model.bin\"\n",
    "MODEL_METADATA_PATH = \"/veld/output/m2/metadata.yaml\""
   ]
  },
  {
   "cell_type": "markdown",
   "id": "c29c9ec2-b4aa-4eff-974a-95b29dfa9b4d",
   "metadata": {},
   "source": [
    "## training and persisting"
   ]
  },
  {
   "cell_type": "code",
   "execution_count": 3,
   "id": "2dc6aa4c-fac2-441f-9ec5-ed5d867dd09d",
   "metadata": {},
   "outputs": [
    {
     "name": "stderr",
     "output_type": "stream",
     "text": [
      "Read 1274M words\n",
      "Number of words:  2435989\n",
      "Number of labels: 0\n",
      "Progress: 100.0% words/sec/thread:   27746 lr:  0.000000 avg.loss:  0.077716 ETA:   0h 0m 0s  1.2% words/sec/thread:   27040 lr:  0.049418 avg.loss:  1.103365 ETA:   5h52m55s  26983 lr:  0.049341 avg.loss:  1.091777 ETA:   5h53m 6s  1.5% words/sec/thread:   26924 lr:  0.049232 avg.loss:  1.054234 ETA:   5h53m 6s  2.8% words/sec/thread:   26747 lr:  0.048598 avg.loss:  0.935665 ETA:   5h50m52s  2.9% words/sec/thread:   26744 lr:  0.048562 avg.loss:  0.933161 ETA:   5h50m38s  2.9% words/sec/thread:   26744 lr:  0.048556 avg.loss:  0.932625 ETA:   5h50m36s  3.2% words/sec/thread:   26750 lr:  0.048391 avg.loss:  0.912477 ETA:   5h49m20s 0.048126 avg.loss:  0.835594 ETA:   5h47m24s  4.3% words/sec/thread:   26789 lr:  0.047854 avg.loss:  0.773376 ETA:   5h44m57s  4.4% words/sec/thread:   26797 lr:  0.047804 avg.loss:  0.762810 ETA:   5h44m29s  26798 lr:  0.047798 avg.loss:  0.761506 ETA:   5h44m25s  4.5% words/sec/thread:   26801 lr:  0.047773 avg.loss:  0.757084 ETA:   5h44m13s  4.6% words/sec/thread:   26804 lr:  0.047693 avg.loss:  0.743006 ETA:   5h43m36s  5.2% words/sec/thread:   26840 lr:  0.047404 avg.loss:  0.698446 ETA:   5h41m 3s  5.2% words/sec/thread:   26840 lr:  0.047400 avg.loss:  0.697890 ETA:   5h41m 2s  5.2% words/sec/thread:   26840 lr:  0.047399 avg.loss:  0.697737 ETA:   5h41m 2s  5.2% words/sec/thread:   26840 lr:  0.047398 avg.loss:  0.697573 ETA:   5h41m 1s  5.7% words/sec/thread:   26784 lr:  0.047159 avg.loss:  0.669293 ETA:   5h40m 1s  7.0% words/sec/thread:   26797 lr:  0.046478 avg.loss:  0.608652 ETA:   5h34m56s  7.1% words/sec/thread:   26797 lr:  0.046455 avg.loss:  0.606889 ETA:   5h34m46s 12.2% words/sec/thread:   27251 lr:  0.043880 avg.loss:  0.482999 ETA:   5h10m57s 12.3% words/sec/thread:   27252 lr:  0.043871 avg.loss:  0.482451 ETA:   5h10m52s 12.3% words/sec/thread:   27252 lr:  0.043869 avg.loss:  0.482318 ETA:   5h10m51s ETA:   5h10m43s  4h55m40s 16.4% words/sec/thread:   27304 lr:  0.041799 avg.loss:  0.365105 ETA:   4h55m37s 16.5% words/sec/thread:   27273 lr:  0.041728 avg.loss:  0.362410 ETA:   4h55m27s  27125 lr:  0.041448 avg.loss:  0.351709 ETA:   4h55m 4s 18.6% words/sec/thread:   27153 lr:  0.040692 avg.loss:  0.326037 ETA:   4h49m23s 19.4% words/sec/thread:   27184 lr:  0.040308 avg.loss:  0.314142 ETA:   4h46m20s 21.2% words/sec/thread:   27247 lr:  0.039418 avg.loss:  0.289919 ETA:   4h39m22s ETA:   4h39m21ss 0.288469 ETA:   4h38m50s avg.loss:  0.287257 ETA:   4h38m27s 21.7% words/sec/thread:   27264 lr:  0.039164 avg.loss:  0.283581 ETA:   4h37m24s35m54s 0.038877 avg.loss:  0.276142 ETA:   4h35m20s  4h31m33s29m57s 23.7% words/sec/thread:   27308 lr:  0.038175 avg.loss:  0.263140 ETA:   4h29m57s 23.7% words/sec/thread:   27309 lr:  0.038162 avg.loss:  0.262910 ETA:   4h29m51sm47s 0.038151 avg.loss:  0.262715 ETA:   4h29m46s 23.7% words/sec/thread:   27309 lr:  0.038147 avg.loss:  0.262657 ETA:   4h29m44s  27310 lr:  0.038141 avg.loss:  0.262548 ETA:   4h29m42s 23.8% words/sec/thread:   27311 lr:  0.038118 avg.loss:  0.262148 ETA:   4h29m31sm12s 0.036614 avg.loss:  0.236226 ETA:   4h18m 8s33s lr:  0.035927 avg.loss:  0.225900 ETA:   4h13m 3s 28.2% words/sec/thread:   27418 lr:  0.035880 avg.loss:  0.225241 ETA:   4h12m42s12m42s  27421 lr:  0.035814 avg.loss:  0.224431 ETA:   4h12m13s 28.4% words/sec/thread:   27421 lr:  0.035795 avg.loss:  0.224190 ETA:   4h12m 4s words/sec/thread:   27469 lr:  0.034473 avg.loss:  0.208269 ETA:   4h 2m21s 31.1% words/sec/thread:   27469 lr:  0.034456 avg.loss:  0.208065 ETA:   4h 2m14s  27517 lr:  0.033122 avg.loss:  0.192936 ETA:   3h52m26s 0.182736 ETA:   3h44m51s 38.5% words/sec/thread:   27594 lr:  0.030760 avg.loss:  0.171451 ETA:   3h35m16s 39.2% words/sec/thread:   27605 lr:  0.030400 avg.loss:  0.168670 ETA:   3h32m39s 0.030112 avg.loss:  0.166747 ETA:   3h30m35s  27617 lr:  0.029939 avg.loss:  0.165459 ETA:   3h29m20s 0.029842 avg.loss:  0.164839 ETA:   3h28m39s 42.7% words/sec/thread:   27632 lr:  0.028671 avg.loss:  0.157301 ETA:   3h20m22s 0.028653 avg.loss:  0.157183 ETA:   3h20m14s 42.7% words/sec/thread:   27632 lr:  0.028650 avg.loss:  0.157169 ETA:   3h20m13s 42.7% words/sec/thread:   27632 lr:  0.028648 avg.loss:  0.157159 ETA:   3h20m12s  27635 lr:  0.028464 avg.loss:  0.156081 ETA:   3h18m54s lr:  0.027676 avg.loss:  0.151455 ETA:   3h13m18s 46.7% words/sec/thread:   27669 lr:  0.026629 avg.loss:  0.145826 ETA:   3h 5m51s  27683 lr:  0.025533 avg.loss:  0.140865 ETA:   2h58m 6s ETA:   2h56m23s 52.8% words/sec/thread:   27712 lr:  0.023600 avg.loss:  0.132028 ETA:   2h44m27s 54.3% words/sec/thread:   27699 lr:  0.022836 avg.loss:  0.128979 ETA:   2h39m12s  2h28m39s 0.121948 ETA:   2h26m36s 58.5% words/sec/thread:   27712 lr:  0.020733 avg.loss:  0.120982 ETA:   2h24m28s avg.loss:  0.119137 ETA:   2h20m53s 61.4% words/sec/thread:   27706 lr:  0.019287 avg.loss:  0.116222 ETA:   2h14m25s  27717 lr:  0.016436 avg.loss:  0.108370 ETA:   1h54m30s 68.0% words/sec/thread:   27721 lr:  0.015984 avg.loss:  0.107186 ETA:   1h51m20s 0.106104 ETA:   1h48m10s 68.9% words/sec/thread:   27724 lr:  0.015529 avg.loss:  0.106102 ETA:   1h48m 9s48m 7s 69.0% words/sec/thread:   27724 lr:  0.015512 avg.loss:  0.106066 ETA:   1h48m 3s 69.0% words/sec/thread:   27724 lr:  0.015510 avg.loss:  0.106062 ETA:   1h48m 2s 69.0% words/sec/thread:   27724 lr:  0.015504 avg.loss:  0.106048 ETA:   1h47m59s 70.0% words/sec/thread:   27728 lr:  0.015018 avg.loss:  0.104852 ETA:   1h44m35s 70.4% words/sec/thread:   27729 lr:  0.014786 avg.loss:  0.104216 ETA:   1h42m58s 0.014776 avg.loss:  0.104190 ETA:   1h42m54s  27730 lr:  0.014613 avg.loss:  0.103778 ETA:   1h41m45s 0.014569 avg.loss:  0.103687 ETA:   1h41m27sh39m59s 71.4% words/sec/thread:   27732 lr:  0.014288 avg.loss:  0.103060 ETA:   1h39m29s 72.0% words/sec/thread:   27734 lr:  0.014004 avg.loss:  0.102479 ETA:   1h37m30s37sh34m36sm34s39s 0.012602 avg.loss:  0.099420 ETA:   1h27m43s  1h27m41s 74.8% words/sec/thread:   27740 lr:  0.012583 avg.loss:  0.099384 ETA:   1h27m35s 74.8% words/sec/thread:   27740 lr:  0.012581 avg.loss:  0.099380 ETA:   1h27m34s 0.097321 ETA:   1h20m10s 0.097298 ETA:   1h20m 4s  27746 lr:  0.011243 avg.loss:  0.096752 ETA:   1h18m15s 79.6% words/sec/thread:   27749 lr:  0.010186 avg.loss:  0.094749 ETA:   1h10m53s 80.1% words/sec/thread:   27746 lr:  0.009949 avg.loss:  0.094227 ETA:   1h 9m14s  1h 8m44s 80.4% words/sec/thread:   27745 lr:  0.009808 avg.loss:  0.093954 ETA:   1h 8m16ss  1h 2m56s% words/sec/thread:   27739 lr:  0.009039 avg.loss:  0.092258 ETA:   1h 2m55s 82.1% words/sec/thread:   27738 lr:  0.008960 avg.loss:  0.092088 ETA:   1h 2m22s 2m21s  27738 lr:  0.008954 avg.loss:  0.092076 ETA:   1h 2m20s 2m15s% words/sec/thread:   27738 lr:  0.008939 avg.loss:  0.092046 ETA:   1h 2m14s  1h 0m26s50s 83.9% words/sec/thread:   27739 lr:  0.008053 avg.loss:  0.090476 ETA:   0h56m 3s 0.006438 avg.loss:  0.087767 ETA:   0h44m48s 89.5% words/sec/thread:   27742 lr:  0.005236 avg.loss:  0.085615 ETA:   0h36m26s avg.loss:  0.085611 ETA:   0h36m25s 0.005232 avg.loss:  0.085609 ETA:   0h36m25s 89.5% words/sec/thread:   27742 lr:  0.005228 avg.loss:  0.085600 ETA:   0h36m23s 89.6% words/sec/thread:   27742 lr:  0.005224 avg.loss:  0.085592 ETA:   0h36m21s 0.004970 avg.loss:  0.085165 ETA:   0h34m35s 0.085156 ETA:   0h34m33s words/sec/thread:   27743 lr:  0.004862 avg.loss:  0.085012 ETA:   0h33m50s14s 90.7% words/sec/thread:   27741 lr:  0.004629 avg.loss:  0.084673 ETA:   0h32m13sh32m13s 0.004626 avg.loss:  0.084668 ETA:   0h32m12s 91.3% words/sec/thread:   27740 lr:  0.004352 avg.loss:  0.084211 ETA:   0h30m17s avg.loss:  0.083070 ETA:   0h24m47sh21m34s 0.082206 ETA:   0h20m40s words/sec/thread:   27741 lr:  0.002948 avg.loss:  0.082168 ETA:   0h20m31s 0.081304 ETA:   0h16m32s  27742 lr:  0.002042 avg.loss:  0.080800 ETA:   0h14m12s  27742 lr:  0.002026 avg.loss:  0.080776 ETA:   0h14m 6s 96.0% words/sec/thread:   27742 lr:  0.002018 avg.loss:  0.080762 ETA:   0h14m 2s 1s 98.6% words/sec/thread:   27745 lr:  0.000703 avg.loss:  0.078727 ETA:   0h 4m53s 0.078696 ETA:   0h 4m45s 4m44s 0.000681 avg.loss:  0.078693 ETA:   0h 4m44s% words/sec/thread:   27745 lr:  0.000677 avg.loss:  0.078687 ETA:   0h 4m42sm17s 99.1% words/sec/thread:   27745 lr:  0.000466 avg.loss:  0.078368 ETA:   0h 3m14s 99.1% words/sec/thread:   27745 lr:  0.000464 avg.loss:  0.078365 ETA:   0h 3m13sh 3m 7s\n"
     ]
    }
   ],
   "source": [
    "time_start = datetime.now()\n",
    "model = fasttext.train_unsupervised(TRAIN_DATA_PATH, epoch=EPOCHS, dim=VECTOR_SIZE)\n",
    "time_end = datetime.now()\n",
    "duration = (time_end - time_start).seconds / 60\n",
    "model.save_model(MODEL_PATH)"
   ]
  },
  {
   "cell_type": "markdown",
   "id": "46734bbf-d312-401b-95ab-2586a88f0d87",
   "metadata": {},
   "source": [
    "## writing metadata "
   ]
  },
  {
   "cell_type": "code",
   "execution_count": 4,
   "id": "cd682376-83c8-455a-a14e-708b6787ca47",
   "metadata": {},
   "outputs": [],
   "source": [
    "# calculate size of training data\n",
    "def calc_size(file):\n",
    "    size = os.path.getsize(file)\n",
    "    for unit in [\"\",\"KB\",\"MB\",\"GB\",\"TB\"]:\n",
    "        if abs(size) < 1024.0:\n",
    "            return f\"{round(size, 1)} {unit}\"\n",
    "        size /= 1024.0\n",
    "train_data_size = calc_size(TRAIN_DATA_PATH)\n",
    "model_data_size = calc_size(MODEL_PATH)\n",
    "\n",
    "# calculate hash of training data\n",
    "train_data_md5_hash = subprocess.run([\"md5sum\", TRAIN_DATA_PATH], capture_output=True, text=True)\n",
    "train_data_md5_hash = train_data_md5_hash.stdout.split()[0]\n",
    "\n",
    "\n",
    "# aggregate into metadata dictionary\n",
    "metadata = {\n",
    "    \"train_data_name\": TRAIN_DATA_NAME,\n",
    "    \"train_data_size\": train_data_size,\n",
    "    \"train_data_md5_hash\": train_data_md5_hash,\n",
    "    \"training_epochs\": EPOCHS,\n",
    "    \"training_vector_size\": VECTOR_SIZE,\n",
    "    \"training_duration (minutes)\": round(duration, 1),\n",
    "    \"model_data_size\": model_data_size,\n",
    "}\n",
    "\n",
    "# write to yaml\n",
    "with open(MODEL_METADATA_PATH, \"w\") as f:\n",
    "    # iteration over dictionary to ensure the yaml writer respects the order\n",
    "    for k, v in metadata.items():\n",
    "        yaml.dump({k: v}, f)"
   ]
  }
 ],
 "metadata": {
  "kernelspec": {
   "display_name": "Python 3 (ipykernel)",
   "language": "python",
   "name": "python3"
  },
  "language_info": {
   "codemirror_mode": {
    "name": "ipython",
    "version": 3
   },
   "file_extension": ".py",
   "mimetype": "text/x-python",
   "name": "python",
   "nbconvert_exporter": "python",
   "pygments_lexer": "ipython3",
   "version": "3.10.12"
  }
 },
 "nbformat": 4,
 "nbformat_minor": 5
}
